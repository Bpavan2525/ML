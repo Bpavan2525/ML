{
  "nbformat": 4,
  "nbformat_minor": 0,
  "metadata": {
    "colab": {
      "provenance": []
    },
    "kernelspec": {
      "name": "python3",
      "display_name": "Python 3"
    },
    "language_info": {
      "name": "python"
    }
  },
  "cells": [
    {
      "cell_type": "markdown",
      "source": [
        "#Regression"
      ],
      "metadata": {
        "id": "I2FvUuiyx1M2"
      }
    },
    {
      "cell_type": "markdown",
      "source": [
        "1. What is Simple Linear Regression?\n",
        "- to determine the strenghts and characteristics of the relationship between one independent variable (x) and another dependent variable (y).\n",
        "\n",
        "2. What are the key assumptions of Simple Linear Regression?\n",
        "- Linearity: x and y should have relationship.\n",
        "- Normality of errors: errors should have normally distributed.\n",
        "- features should not have a relationship between them.\n",
        "- the obervation should have independent to each other.\n",
        "- the variance of errors should be constant.\n",
        "\n",
        "3. What does the coefficient 'm' represent in the equation Y = mX + c?\n",
        "- m is slope in the equation. which represents the rate of change of y with respect to x.\n",
        "\n",
        "4. What does the intercept 'c' represent in the equation Y = mX + c?\n",
        "- c represents constant. which cuts y and it represents the starting point or basevalue of y.\n",
        "\n",
        "5. How do we calculate the slope 'm' in Simple Linear Regression?\n",
        "- (y2-y1)/(x2-x1)\n",
        "\n",
        "6. What is the purpose of the least squares method in Simple Linear Regression?\n",
        "- to find the best fit line from the data points by minimizing the sum of squared differences from the observed values and values predicted by the line.\n",
        "\n",
        "7. How is the coefficient of determination (R²) interpreted in Simple Linear Regression?\n",
        "-  it is the proportion of variance which is the dependent variable which is predicted from the independent variables.\n",
        "\n",
        "8. What is Multiple Linear Regression?\n",
        "- to determine the strengths and characteristics of the relationship between independent variables x1, x2, x2, .... xn to the dependent variable y.\n",
        "\n",
        "9. What is the main difference between Simple and Multiple Linear Regression?\n",
        "- the main difference between simple and multiple linear regression is the independent variables which is 1 for simple linear regression and 2 or more upto xn for multiple linear regression to predict the dependent variable.\n",
        "\n",
        "10. What are the key assumptions of Multiple Linear Regression?\n",
        "- Linearity: x and y should have relationship.\n",
        "- Normality of errors: errors should have normally distributed.\n",
        "- features should not have a relationship between them.\n",
        "- the obervation should have independent to each other.\n",
        "- the variance of errors should be constant.\n",
        "\n",
        "11. What is heteroscedasticity, and how does it affect the results of a Multiple Linear Regression model?\n",
        "- heteroscedasticity is known as non-constant variance and have some pattern.\n",
        "- using that pattern it helps the model understand the pattern by using the multiple features and make the predictions accurate.\n",
        "\n",
        "12. How can you improve a Multiple Linear Regression model with high multicollinearity?\n",
        "- remove highly correlated variables.\n",
        "- combine correlated features like combine 2 features which are same in nature.\n",
        "- use PCA to transform correlated features to uncorrelated features. this reduces dimentionality and multicolleniarity.\n",
        "\n",
        "13. What are some common techniques for transforming categorical variables for use in regression models?\n",
        "- data encoding by using labeling, one hot encoding, ordinal encoding and targent encoding.\n",
        "\n",
        "14. What is the role of interaction terms in Multiple Linear Regression?\n",
        "- allow the 2 variables to be non additive and make the model more accuracy and predictive.\n",
        "\n",
        "15. How can the interpretation of the intercept differ between Simple and Multiple Linear Regression?\n",
        "-simple Linear regression: the interpretation of intercept can be predicted when the single independent variable x is 0\n",
        "- multiple linear regression: the interpretation of intercept can be predicted when the multiple independent variables is 0 but it can be irrelevant based on the context and variable value.\n",
        "\n",
        "16. What is the significance of the slope in regression analysis, and how does it affect predictions?\n",
        "- the significance of the slope in regression analysis tell us how much the dependent varibale (y) increases for every unit of independent variable (x).larger the slope that much stronger the relationship between x and y and has a greater impact on predictions.\n",
        "\n",
        "17. How does the intercept in a regression model provide context for the relationship between variables?\n",
        "- ex: when cost of house is 2cr and the area of house increases with m but when the area of house is 0 then cost of house remains 2cr is it a correct value, so here the relationship between variables based on context is important.\n",
        "\n",
        "18. What are the limitations of using R² as a sole measure of model performance?\n",
        "- doesn't indicate causation.\n",
        "- can be misleaded with non-linear relationship: even the R² is high but it doesn't mean the model is accurate.\n",
        "- outliers can distort R².\n",
        "\n",
        "19. How would you interpret a large standard error for a regression coefficient?\n",
        "- the large standard error for a regression coefficient indicates uncertainity or low coefficient in the estimated coefficient.\n",
        "\n",
        "20. How can heteroscedasticity be identified in residual plots, and why is it important to address it?\n",
        "- heteroscedacity be identified in residual plots due to spread of residuals which will increase or decrease the fit of values which makes the pattern like funnels and it is important to address becuase it violates the key assumption of linearity in simple linear regression which can cause the model training to bias erros, invalid hypothesis or pvalues.\n",
        "\n",
        "21. What does it mean if a Multiple Linear Regression model has a high R² but a low adjusted R²?\n",
        "- it means there are no relevant features given to the model which can make the R² higher but adjusted R² increases only if there is relevant features which has an impact on model predictions.\n",
        "\n",
        "22. Why is it important to scale variables in Multiple Linear Regression?\n",
        "- if the features are of differnt dimensions then it can make the model complex in training. so, for this we need to do scaling.\n",
        "\n",
        "23. What is Polynomial Regression?\n",
        "- which has 1 independent variable and 1 dependent variable with non linear relationship and be used with the powers of independent varibable.\n",
        "\n",
        "24. How does Polynomial Regression differ from Linear Regression?\n",
        "- polynomial regression differs in usage when non-linear curve is there in data points instead of going in a straight line as linear regression which decreases the model's accuracy in those cases.\n",
        "\n",
        "25. When is Polynomial Regression used?\n",
        "- when the curve is non-linear which by using polynomial regression helps the regression understand the pattern by going in that way.\n",
        "\n",
        "26. What is the general equation for Polynomial Regression?\n",
        "- Y = β₀ + β₁X + β₂X² + β₃X³ + ... + βₙXⁿ + ε\n",
        "\n",
        "27. Can Polynomial Regression be applied to multiple variables?\n",
        "- yes it can be applied to multiple variables.\n",
        "\n",
        "28. What are the limitations of Polynomial Regression?\n",
        "- overfitting : using high degree polynomial makes the model noise instead of true patttern.\n",
        "- exploration: predictions outside the range of data can be inaccurate.\n",
        "- Computational cost: High-degree polynomials increase computation time and complexity\n",
        "- Hard to interpret: As degree increases, the model becomes less interpretable.\n",
        "- sensitive to outliers.\n",
        "\n",
        "29. What methods can be used to evaluate model fit when selecting the degree of a polynomial?\n",
        "- used methods to evaluate the model fit:\n",
        "- - train test split : by comparing both the sides of data.\n",
        "- - comparing r2 and adjusted r2.\n",
        "- - mean square error or root mean square error.\n",
        "- - learning curve.\n",
        "- - cross validation.\n",
        "\n",
        "30. Why is visualization important in Polynomial Regression?\n",
        "- visualization helps in:\n",
        "- - see the curve fitted for the model.\n",
        "- - detect overfitting or underfitting.\n",
        "- - to see the learning curve.\n",
        "- - to see the outliers, data gaps or extreme bending of the curve.\n"
      ],
      "metadata": {
        "id": "NNVp7jBKx7Pi"
      }
    },
    {
      "cell_type": "markdown",
      "source": [
        "31. How is Polynomial Regression implemented in Python?"
      ],
      "metadata": {
        "id": "xuVhUVdSaEcO"
      }
    },
    {
      "cell_type": "code",
      "source": [
        "from sklearn.linear_model import LinearRegression\n",
        "from sklearn.preprocessing import PolynomialFeatures\n",
        "from sklearn.metrics import mean_squared_error\n",
        "import numpy as np\n",
        "import matplotlib.pyplot as plt\n",
        "\n",
        "\n",
        "x = np.array([1, 2, 3, 4, 5]).reshape(-1, 1)\n",
        "y = np.array([2, 6, 14, 28, 45])\n",
        "\n",
        "poly=PolynomialFeatures(degree=2)\n",
        "x_poly=poly.fit_transform(x)\n",
        "\n",
        "model=LinearRegression()\n",
        "model.fit(x_poly,y)\n",
        "\n",
        "y_pred=model.predict(x_poly)\n",
        "\n",
        "#plot\n",
        "plt.scatter(x,y, color='blue')\n",
        "plt.plot(x,y_pred, color='red')\n",
        "plt.title('polynomial regression')\n",
        "plt.xlabel('x')\n",
        "plt.ylabel('y')\n",
        "plt.show()"
      ],
      "metadata": {
        "colab": {
          "base_uri": "https://localhost:8080/",
          "height": 472
        },
        "id": "yaTrxUV_aFsC",
        "outputId": "39797849-938d-49b2-95f7-033b7aae30ee"
      },
      "execution_count": 16,
      "outputs": [
        {
          "output_type": "display_data",
          "data": {
            "text/plain": [
              "<Figure size 640x480 with 1 Axes>"
            ],
            "image/png": "[encoded data removed]"
          },
          "metadata": {}
        }
      ]
    },
    {
      "cell_type": "code",
      "source": [],
      "metadata": {
        "id": "9RWHrvmQaNNW"
      },
      "execution_count": null,
      "outputs": []
    }
  ]
}